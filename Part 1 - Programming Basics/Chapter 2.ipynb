{
 "cells": [
  {
   "cell_type": "markdown",
   "id": "e8f40d9b-e1e6-47e3-af83-3e3a5a093648",
   "metadata": {},
   "source": [
    "# <en><center>Chapter 2</center></en>"
   ]
  },
  {
   "cell_type": "markdown",
   "id": "011d6c37-fc8c-4870-8db5-3ad9a0ca784c",
   "metadata": {},
   "source": [
    "## Control Flow"
   ]
  },
  {
   "cell_type": "markdown",
   "id": "0006e94e-6203-4352-a261-128b57c1c56c",
   "metadata": {},
   "source": [
    "#### Rock, Paper, Scissors Game"
   ]
  },
  {
   "cell_type": "code",
   "execution_count": 3,
   "id": "0c674b67-3610-4691-a72f-755bd5d74083",
   "metadata": {},
   "outputs": [],
   "source": [
    "import random\n",
    "import sys"
   ]
  },
  {
   "cell_type": "code",
   "execution_count": 9,
   "id": "e8bfa454-bb21-4ec7-9a0f-a1935969e3a8",
   "metadata": {},
   "outputs": [
    {
     "name": "stdout",
     "output_type": "stream",
     "text": [
      "Let's Play Rock, Paper Scissors!\n",
      "Wins: 0, Losses: 0, Ties: 0\n"
     ]
    },
    {
     "name": "stdin",
     "output_type": "stream",
     "text": [
      "Enter your move: (r)ock, (p)aper, (s)cissors or (q)uit. r\n"
     ]
    },
    {
     "name": "stdout",
     "output_type": "stream",
     "text": [
      "ROCK versus...\n",
      "SCISSORS\n",
      "Let's Play Rock, Paper Scissors!\n",
      "Wins: 0, Losses: 0, Ties: 0\n"
     ]
    },
    {
     "name": "stdin",
     "output_type": "stream",
     "text": [
      "Enter your move: (r)ock, (p)aper, (s)cissors or (q)uit. q\n"
     ]
    },
    {
     "ename": "SystemExit",
     "evalue": "",
     "output_type": "error",
     "traceback": [
      "An exception has occurred, use %tb to see the full traceback.\n",
      "\u001b[1;31mSystemExit\u001b[0m\n"
     ]
    }
   ],
   "source": [
    "wins = 0\n",
    "losses = 0\n",
    "ties = 0\n",
    "\n",
    "while True:\n",
    "    print(\"Let's Play Rock, Paper Scissors!\\nWins: %s, Losses: %s, Ties: %s\"%(wins,losses,ties))\n",
    "    while True:\n",
    "        player_move = input(\"Enter your move: (r)ock, (p)aper, (s)cissors or (q)uit.\").lower()\n",
    "        if player_move == \"q\":\n",
    "            sys.exit()\n",
    "        elif player_move == \"r\" or player_move == \"p\" or player_move == \"s\":\n",
    "            break\n",
    "    \n",
    "    # Display for the player choice:\n",
    "    if player_move == \"r\":\n",
    "        print(\"ROCK versus...\")\n",
    "    elif player_move == \"p\":\n",
    "        print(\"PAPER versus...\")\n",
    "    elif player_move == \"s\":\n",
    "        print(\"SCISSORS versus...\")\n",
    "        \n",
    "    # Display what the computer chose:\n",
    "    computernumber = random.randint(1,3)\n",
    "    computer_move = 0\n",
    "    if computernumber == 1:\n",
    "        computer_move == \"r\"\n",
    "        print(\"ROCK\")\n",
    "    elif computernumber == 2:\n",
    "        computer_move ==\"p\"\n",
    "        print(\"PAPER\")\n",
    "    elif computernumber == 3:\n",
    "        computer_move == \"s\"\n",
    "        print(\"SCISSORS\")\n",
    "        \n",
    "    #Display and record the wins/losses/ties:\n",
    "    if player_move == computer_move:\n",
    "        ties = ties + 1\n",
    "        print(\"Its a tie!\")\n",
    "    elif player_move == \"r\" and computer_move == \"s\":\n",
    "        wins = wins + 1\n",
    "        print(\"You win!\")\n",
    "    elif player_move == \"p\" and computer_move == \"r\":\n",
    "        wins = wins + 1\n",
    "        print(\"You win!\")\n",
    "    elif player_move == \"s\" and computer_move == \"p\":\n",
    "        wins = wins + 1\n",
    "        print(\"You win!\")\n",
    "        \n",
    "    # Player lose conditions:    \n",
    "    elif player_move == \"r\" and computer_move == \"p\":\n",
    "        losses = losses + 1\n",
    "        print(\"You lose!\")\n",
    "    elif player_move == \"p\" and computer_move == \"s\":\n",
    "        losses = losses + 1\n",
    "        print(\"You lose!\")\n",
    "    elif player_move == \"s\" and computer_move == \"r\":\n",
    "        losses = losses + 1\n",
    "        print(\"You lose!\")"
   ]
  },
  {
   "cell_type": "markdown",
   "id": "2d39d3e0-d9bb-42a5-9ac3-a9c9d67300a6",
   "metadata": {},
   "source": [
    "### Practice Questions"
   ]
  },
  {
   "cell_type": "markdown",
   "id": "f1a97970-a610-4dab-bdd9-57ad085eee0c",
   "metadata": {},
   "source": [
    "What are the two values of the Boolean Data Type? How do you write them?"
   ]
  },
  {
   "cell_type": "markdown",
   "id": "14a2a069-b6c4-4008-aa69-939b897bb3e1",
   "metadata": {},
   "source": [
    "1 True and False"
   ]
  },
  {
   "cell_type": "markdown",
   "id": "d77e7331-6ce6-4ba0-b85b-4b2b5022b7d2",
   "metadata": {},
   "source": [
    " "
   ]
  },
  {
   "cell_type": "markdown",
   "id": "cb297cd2-b1c9-4ecc-8f6e-92a966b9f924",
   "metadata": {},
   "source": [
    "and or not"
   ]
  },
  {
   "cell_type": "code",
   "execution_count": null,
   "id": "0d5bec4f-010f-404f-abd6-fb8448e51e9c",
   "metadata": {},
   "outputs": [],
   "source": [
    "False\n",
    "False\n",
    "True\n",
    "False\n",
    "False\n",
    "True"
   ]
  },
  {
   "cell_type": "code",
   "execution_count": null,
   "id": "68889f2d-a90b-48a3-a74c-85da62b0adbb",
   "metadata": {},
   "outputs": [],
   "source": [
    "True and True\n",
    "True and False\n",
    "False and False\n",
    "False or True\n",
    "not True and not False\n",
    "not True or not False\n"
   ]
  },
  {
   "cell_type": "code",
   "execution_count": null,
   "id": "6b0aa05d-fb86-4360-bfdc-ee8e5ef5067e",
   "metadata": {},
   "outputs": [],
   "source": [
    "==\n",
    "!=\n",
    ">\n",
    "<\n",
    ">=\n",
    "<="
   ]
  }
 ],
 "metadata": {
  "kernelspec": {
   "display_name": "Python 3 (ipykernel)",
   "language": "python",
   "name": "python3"
  },
  "language_info": {
   "codemirror_mode": {
    "name": "ipython",
    "version": 3
   },
   "file_extension": ".py",
   "mimetype": "text/x-python",
   "name": "python",
   "nbconvert_exporter": "python",
   "pygments_lexer": "ipython3",
   "version": "3.9.12"
  }
 },
 "nbformat": 4,
 "nbformat_minor": 5
}
