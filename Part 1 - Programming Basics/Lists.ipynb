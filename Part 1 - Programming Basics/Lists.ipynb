{
 "cells": [
  {
   "cell_type": "markdown",
   "id": "da3a77e6-29bb-44df-a725-f83ed7e185dc",
   "metadata": {},
   "source": [
    "# Lists"
   ]
  },
  {
   "cell_type": "markdown",
   "id": "daf98ca7-3810-464c-b095-8fe87ac1936d",
   "metadata": {},
   "source": [
    "## Libraries"
   ]
  },
  {
   "cell_type": "code",
   "execution_count": 3,
   "id": "3ff17561-d8e8-4561-8a4e-ac7f825b2f6f",
   "metadata": {},
   "outputs": [],
   "source": [
    "import random"
   ]
  },
  {
   "cell_type": "code",
   "execution_count": 16,
   "id": "1220080e-ebb2-4d2a-8145-6b96d93451c6",
   "metadata": {},
   "outputs": [],
   "source": [
    "spam = [\"cat\", \"bat\", \"rat\", \"elephant\"]"
   ]
  },
  {
   "cell_type": "code",
   "execution_count": 6,
   "id": "f7e4a491-794b-4446-b8c7-394bcd1649f7",
   "metadata": {},
   "outputs": [
    {
     "data": {
      "text/plain": [
       "'hello cat'"
      ]
     },
     "execution_count": 6,
     "metadata": {},
     "output_type": "execute_result"
    }
   ],
   "source": [
    "\"hello \" + spam[0]"
   ]
  },
  {
   "cell_type": "code",
   "execution_count": 7,
   "id": "42e198bf-2e1c-40d4-a36c-c66d77598c67",
   "metadata": {},
   "outputs": [
    {
     "data": {
      "text/plain": [
       "'The bat ate the cat.'"
      ]
     },
     "execution_count": 7,
     "metadata": {},
     "output_type": "execute_result"
    }
   ],
   "source": [
    "\"The \" + spam[1] + \" ate the \" + spam[0] + \".\""
   ]
  },
  {
   "cell_type": "code",
   "execution_count": 8,
   "id": "211dbb3d-37ee-42d3-8c19-63746bb0395b",
   "metadata": {},
   "outputs": [],
   "source": [
    "spam = [[\"cat\", \"bat\"], [10,20,30,40,50]]"
   ]
  },
  {
   "cell_type": "code",
   "execution_count": 9,
   "id": "642245fe-d75b-4239-b4d1-2ce162790852",
   "metadata": {},
   "outputs": [
    {
     "data": {
      "text/plain": [
       "'bat'"
      ]
     },
     "execution_count": 9,
     "metadata": {},
     "output_type": "execute_result"
    }
   ],
   "source": [
    "spam[0][1]"
   ]
  },
  {
   "cell_type": "code",
   "execution_count": 10,
   "id": "1820b630-ad0c-4a41-8890-0574cfc167f9",
   "metadata": {},
   "outputs": [
    {
     "data": {
      "text/plain": [
       "2"
      ]
     },
     "execution_count": 10,
     "metadata": {},
     "output_type": "execute_result"
    }
   ],
   "source": [
    "len(spam)"
   ]
  },
  {
   "cell_type": "code",
   "execution_count": 11,
   "id": "f4972514-586d-4775-ae36-c21359e26b26",
   "metadata": {},
   "outputs": [
    {
     "data": {
      "text/plain": [
       "5"
      ]
     },
     "execution_count": 11,
     "metadata": {},
     "output_type": "execute_result"
    }
   ],
   "source": [
    "len(spam[1])"
   ]
  },
  {
   "cell_type": "code",
   "execution_count": 17,
   "id": "8178a688-8539-4a0a-bae8-096024053b84",
   "metadata": {},
   "outputs": [
    {
     "data": {
      "text/plain": [
       "['cat', 'bat', 'elephant']"
      ]
     },
     "execution_count": 17,
     "metadata": {},
     "output_type": "execute_result"
    }
   ],
   "source": [
    "del spam[2]\n",
    "spam"
   ]
  },
  {
   "cell_type": "markdown",
   "id": "8266e6d6-db3b-4b92-8414-725cf7a9198e",
   "metadata": {},
   "source": [
    "For loop with Lists\n",
    "- range(len(somelist)) is a common list looping technique"
   ]
  },
  {
   "cell_type": "code",
   "execution_count": 22,
   "id": "4c83af06-54a2-48df-b881-be9285885ccd",
   "metadata": {},
   "outputs": [
    {
     "name": "stdout",
     "output_type": "stream",
     "text": [
      "Index 0 in supplies is: pens\n",
      "Index 1 in supplies is: staplers\n",
      "Index 2 in supplies is: flamethrowers\n",
      "Index 3 in supplies is: binders\n"
     ]
    }
   ],
   "source": [
    "supplies = [\"pens\", \"staplers\", \"flamethrowers\", \"binders\"]\n",
    "for i in range(len(supplies)):\n",
    "    print(\"Index \" + str(i) + \" in supplies is: \" + supplies[i])"
   ]
  },
  {
   "cell_type": "code",
   "execution_count": 26,
   "id": "16bb040a-8eb7-43a4-86ad-3f6898633a1f",
   "metadata": {},
   "outputs": [
    {
     "name": "stdout",
     "output_type": "stream",
     "text": [
      "Enter a pet name\n"
     ]
    },
    {
     "name": "stdin",
     "output_type": "stream",
     "text": [
      " Foot\n"
     ]
    },
    {
     "name": "stdout",
     "output_type": "stream",
     "text": [
      "I do not have a pet named Foot\n"
     ]
    }
   ],
   "source": [
    "mypets = [\"Zophie\", \"Pooka\", \"Fat-tail\"]\n",
    "print(\"Enter a pet name\")\n",
    "name = input()\n",
    "if name not in mypets:\n",
    "    print(\"I do not have a pet named \" + name)\n",
    "else:\n",
    "        print(name + \"is my pet.\")"
   ]
  },
  {
   "cell_type": "markdown",
   "id": "2469273f-f055-4837-bc44-7312a6c24d34",
   "metadata": {},
   "source": [
    "Multiple Assignment Trick"
   ]
  },
  {
   "cell_type": "code",
   "execution_count": 27,
   "id": "80922636-cd46-4466-a264-842188d4df65",
   "metadata": {},
   "outputs": [],
   "source": [
    "cat = [\"fat\",\"gray\", \"loud\"]\n",
    "size, color, disposition = cat"
   ]
  },
  {
   "cell_type": "code",
   "execution_count": 28,
   "id": "bb99195b-8db4-4281-b098-d58a8cb68a09",
   "metadata": {},
   "outputs": [
    {
     "data": {
      "text/plain": [
       "'fat'"
      ]
     },
     "execution_count": 28,
     "metadata": {},
     "output_type": "execute_result"
    }
   ],
   "source": []
  },
  {
   "cell_type": "code",
   "execution_count": 29,
   "id": "de9a2ee3-600e-4ab1-939f-8218d63fdac5",
   "metadata": {},
   "outputs": [
    {
     "data": {
      "text/plain": [
       "['pens', 'staplers', 'flamethrowers', 'binders']"
      ]
     },
     "execution_count": 29,
     "metadata": {},
     "output_type": "execute_result"
    }
   ],
   "source": [
    "supplies"
   ]
  },
  {
   "cell_type": "code",
   "execution_count": 32,
   "id": "25f87c91-998b-4b2b-a75f-3f48a381ca33",
   "metadata": {},
   "outputs": [
    {
     "name": "stdout",
     "output_type": "stream",
     "text": [
      "Index 0 in supplies is: pens\n",
      "Index 1 in supplies is: staplers\n",
      "Index 2 in supplies is: flamethrowers\n",
      "Index 3 in supplies is: binders\n"
     ]
    }
   ],
   "source": [
    "for index, item in enumerate(supplies):\n",
    "    print(\"Index \" + str(index) + \" in supplies is: \" + item)"
   ]
  },
  {
   "cell_type": "code",
   "execution_count": 34,
   "id": "770e4172-4c63-4015-a82b-6bb37ed68726",
   "metadata": {},
   "outputs": [
    {
     "data": {
      "text/plain": [
       "'Dog'"
      ]
     },
     "execution_count": 34,
     "metadata": {},
     "output_type": "execute_result"
    }
   ],
   "source": [
    "pets = [\"Dog\",\"Cat\", \"Moose\"]\n",
    "random.choice(pets)"
   ]
  },
  {
   "cell_type": "code",
   "execution_count": 35,
   "id": "78fc3734-38f3-4a6c-bcc8-ae04ad386275",
   "metadata": {},
   "outputs": [
    {
     "data": {
      "text/plain": [
       "'Dog'"
      ]
     },
     "execution_count": 35,
     "metadata": {},
     "output_type": "execute_result"
    }
   ],
   "source": [
    "random.choice(pets)"
   ]
  },
  {
   "cell_type": "code",
   "execution_count": null,
   "id": "bc59afce-feb6-4398-a010-ed558058cbc9",
   "metadata": {},
   "outputs": [],
   "source": [
    "random.randint()"
   ]
  },
  {
   "cell_type": "code",
   "execution_count": 36,
   "id": "76a6d428-5d95-41c8-9da2-35664f8fcbb8",
   "metadata": {},
   "outputs": [],
   "source": [
    "random.shuffle(pets)"
   ]
  },
  {
   "cell_type": "code",
   "execution_count": 37,
   "id": "a3ab6fc0-51e3-4668-85b7-b1c4763b76be",
   "metadata": {},
   "outputs": [
    {
     "data": {
      "text/plain": [
       "['Cat', 'Moose', 'Dog']"
      ]
     },
     "execution_count": 37,
     "metadata": {},
     "output_type": "execute_result"
    }
   ],
   "source": [
    "pets"
   ]
  },
  {
   "cell_type": "code",
   "execution_count": 38,
   "id": "327c4d8b-5939-4c1e-aae2-17a9778a7dfb",
   "metadata": {},
   "outputs": [],
   "source": [
    "pets.sort()"
   ]
  },
  {
   "cell_type": "code",
   "execution_count": 39,
   "id": "92b6f82a-4261-4125-8b3a-202ea835a9dc",
   "metadata": {},
   "outputs": [
    {
     "data": {
      "text/plain": [
       "['Cat', 'Dog', 'Moose']"
      ]
     },
     "execution_count": 39,
     "metadata": {},
     "output_type": "execute_result"
    }
   ],
   "source": [
    "pets"
   ]
  },
  {
   "cell_type": "code",
   "execution_count": 40,
   "id": "1612211c-5d6d-4664-8780-49e3d257436a",
   "metadata": {},
   "outputs": [],
   "source": [
    "pets.append(\"fish\")"
   ]
  },
  {
   "cell_type": "code",
   "execution_count": 41,
   "id": "8539dd5a-b541-4736-b69d-4c7de7f312ab",
   "metadata": {},
   "outputs": [
    {
     "data": {
      "text/plain": [
       "['Cat', 'Dog', 'Moose', 'fish']"
      ]
     },
     "execution_count": 41,
     "metadata": {},
     "output_type": "execute_result"
    }
   ],
   "source": [
    "pets"
   ]
  },
  {
   "cell_type": "code",
   "execution_count": 42,
   "id": "e397747f-bf11-48e9-9b55-ce24e8e9aa8f",
   "metadata": {},
   "outputs": [
    {
     "data": {
      "text/plain": [
       "3"
      ]
     },
     "execution_count": 42,
     "metadata": {},
     "output_type": "execute_result"
    }
   ],
   "source": [
    "pets.index(\"fish\")"
   ]
  },
  {
   "cell_type": "code",
   "execution_count": 49,
   "id": "fdcba374-93e3-43b8-b3f6-abb183de16c2",
   "metadata": {},
   "outputs": [],
   "source": [
    "spam = 42"
   ]
  },
  {
   "cell_type": "code",
   "execution_count": 50,
   "id": "dfc45d99-98be-4af2-bbf2-8bd9ecb879df",
   "metadata": {},
   "outputs": [],
   "source": [
    "spam %= 1"
   ]
  },
  {
   "cell_type": "code",
   "execution_count": 51,
   "id": "5f87dace-b56a-4ba0-8f2d-b8d951849ecd",
   "metadata": {},
   "outputs": [
    {
     "data": {
      "text/plain": [
       "0"
      ]
     },
     "execution_count": 51,
     "metadata": {},
     "output_type": "execute_result"
    }
   ],
   "source": [
    "spam"
   ]
  },
  {
   "cell_type": "code",
   "execution_count": 4,
   "id": "00e13c0a-a991-4f56-9d2e-91f4760f11b7",
   "metadata": {},
   "outputs": [],
   "source": [
    "spam = [ \"hello\", \"hi\", \"howdy\", \"heyas\"]"
   ]
  },
  {
   "cell_type": "code",
   "execution_count": 53,
   "id": "09c92ce0-d987-407e-a9ae-fbac9fb1a9eb",
   "metadata": {},
   "outputs": [
    {
     "data": {
      "text/plain": [
       "0"
      ]
     },
     "execution_count": 53,
     "metadata": {},
     "output_type": "execute_result"
    }
   ],
   "source": [
    "spam.index(\"hello\")"
   ]
  },
  {
   "cell_type": "code",
   "execution_count": 54,
   "id": "a5dd31d6-2fad-4251-9c1e-f02e93a58c3d",
   "metadata": {},
   "outputs": [],
   "source": [
    "pets.insert(2,\"turtle\")"
   ]
  },
  {
   "cell_type": "code",
   "execution_count": 55,
   "id": "9460844b-10ec-4ee7-892e-8aafb3e5541c",
   "metadata": {},
   "outputs": [
    {
     "data": {
      "text/plain": [
       "['Cat', 'Dog', 'turtle', 'Moose', 'fish']"
      ]
     },
     "execution_count": 55,
     "metadata": {},
     "output_type": "execute_result"
    }
   ],
   "source": [
    "pets"
   ]
  },
  {
   "cell_type": "code",
   "execution_count": 1,
   "id": "acca03e9-c5c4-4f60-ae89-99b05d210cd6",
   "metadata": {},
   "outputs": [],
   "source": [
    "hello, hi, howdy, heyas = [ \"hello\", \"hi\", \"howdy\", \"heyas\"]"
   ]
  },
  {
   "cell_type": "code",
   "execution_count": 2,
   "id": "311d6507-0374-4726-8a1d-248eae469f9b",
   "metadata": {},
   "outputs": [
    {
     "data": {
      "text/plain": [
       "'hello'"
      ]
     },
     "execution_count": 2,
     "metadata": {},
     "output_type": "execute_result"
    }
   ],
   "source": [
    "hello"
   ]
  },
  {
   "cell_type": "code",
   "execution_count": 3,
   "id": "ae7a263c-0624-4421-9f9c-76f3302e5d2a",
   "metadata": {},
   "outputs": [
    {
     "data": {
      "text/plain": [
       "'hi'"
      ]
     },
     "execution_count": 3,
     "metadata": {},
     "output_type": "execute_result"
    }
   ],
   "source": [
    "hi"
   ]
  },
  {
   "cell_type": "code",
   "execution_count": 5,
   "id": "3ad6387f-14ad-43e4-ba87-2e36c15b4da6",
   "metadata": {},
   "outputs": [],
   "source": [
    "spam.insert(1,\"Greetings\")"
   ]
  },
  {
   "cell_type": "code",
   "execution_count": 6,
   "id": "89eb87e3-d727-402d-bf05-5985607b2312",
   "metadata": {},
   "outputs": [
    {
     "data": {
      "text/plain": [
       "['hello', 'Greetings', 'hi', 'howdy', 'heyas']"
      ]
     },
     "execution_count": 6,
     "metadata": {},
     "output_type": "execute_result"
    }
   ],
   "source": [
    "spam"
   ]
  },
  {
   "cell_type": "code",
   "execution_count": 5,
   "id": "c0daee66-6ed1-419c-8b35-ecaa0d94b13b",
   "metadata": {},
   "outputs": [
    {
     "ename": "SyntaxError",
     "evalue": "invalid syntax (3257642239.py, line 5)",
     "output_type": "error",
     "traceback": [
      "\u001b[1;36m  Input \u001b[1;32mIn [5]\u001b[1;36m\u001b[0m\n\u001b[1;33m    print(\"This person's name, \" + (str(name) \" is not in the class.\")\u001b[0m\n\u001b[1;37m                                              ^\u001b[0m\n\u001b[1;31mSyntaxError\u001b[0m\u001b[1;31m:\u001b[0m invalid syntax\n"
     ]
    }
   ],
   "source": [
    "myclass = [\"Zoey\", \"Karen\", \"Giselle\",\"Tyler\"]\n",
    "math_class = [\"\"]\n",
    "name = \n",
    "for name in \n",
    "if name not in myclass:\n",
    "    print(\"This person's name, \"+ name + \" is not in the class.\")\n",
    "else:\n",
    "    print(\"Yes, they are in the class\")"
   ]
  },
  {
   "cell_type": "code",
   "execution_count": 6,
   "id": "f21310e0-dc16-4c57-90ef-66232f025748",
   "metadata": {},
   "outputs": [],
   "source": [
    "goals = [\"Mindful\", \"forgiving\", \"empathic\", \"sympathetic\", \"thoughtful\"]\n",
    "goals.insert(1, \"discerning\")"
   ]
  },
  {
   "cell_type": "code",
   "execution_count": 7,
   "id": "0eeb89d6-d711-4bc2-b555-f58e7fb5d814",
   "metadata": {},
   "outputs": [
    {
     "data": {
      "text/plain": [
       "['Mindful', 'discerning', 'forgiving', 'empathic', 'sympathetic', 'thoughtful']"
      ]
     },
     "execution_count": 7,
     "metadata": {},
     "output_type": "execute_result"
    }
   ],
   "source": [
    "goals"
   ]
  },
  {
   "cell_type": "code",
   "execution_count": 9,
   "id": "ba1f20b9-e991-4520-884c-8c4673077b6d",
   "metadata": {},
   "outputs": [
    {
     "data": {
      "text/plain": [
       "['Mindful', 'Discerning', 'Forgiving', 'Empathic', 'Sympathetic', 'Thoughtful']"
      ]
     },
     "execution_count": 9,
     "metadata": {},
     "output_type": "execute_result"
    }
   ],
   "source": [
    "goals = [i.capitalize() for i in goals]\n",
    "goals"
   ]
  },
  {
   "cell_type": "code",
   "execution_count": 10,
   "id": "46d34ba6-782a-44e6-927d-0d77b48dfc1d",
   "metadata": {},
   "outputs": [
    {
     "data": {
      "text/plain": [
       "['Mindful', 'Discerning', 'Forgiving', 'Empathic', 'Sympathetic', 'Thoughtful']"
      ]
     },
     "execution_count": 10,
     "metadata": {},
     "output_type": "execute_result"
    }
   ],
   "source": [
    "sorted(goals)\n",
    "goals"
   ]
  },
  {
   "cell_type": "code",
   "execution_count": 11,
   "id": "65d2abeb-55f1-4313-b4ad-a0706ecb0476",
   "metadata": {},
   "outputs": [],
   "source": [
    "goals.remove(\"Discerning\")"
   ]
  },
  {
   "cell_type": "code",
   "execution_count": 12,
   "id": "06caa10a-e423-4b8c-8b09-f8179b8646ca",
   "metadata": {},
   "outputs": [
    {
     "data": {
      "text/plain": [
       "['Mindful', 'Forgiving', 'Empathic', 'Sympathetic', 'Thoughtful']"
      ]
     },
     "execution_count": 12,
     "metadata": {},
     "output_type": "execute_result"
    }
   ],
   "source": [
    "goals"
   ]
  },
  {
   "cell_type": "code",
   "execution_count": 13,
   "id": "40db41df-fbb1-40e1-a407-2c993bca7e9d",
   "metadata": {},
   "outputs": [
    {
     "data": {
      "text/plain": [
       "['Thoughtful', 'Sympathetic', 'Empathic', 'Forgiving', 'Mindful']"
      ]
     },
     "execution_count": 13,
     "metadata": {},
     "output_type": "execute_result"
    }
   ],
   "source": [
    "goals.reverse()\n",
    "goals"
   ]
  },
  {
   "cell_type": "code",
   "execution_count": 15,
   "id": "189c0000-fbec-4055-97fc-e2c96d933e5e",
   "metadata": {},
   "outputs": [
    {
     "data": {
      "text/plain": [
       "['Thoughtful', 'Sympathetic', 'Mindful', 'Forgiving', 'Empathic']"
      ]
     },
     "execution_count": 15,
     "metadata": {},
     "output_type": "execute_result"
    }
   ],
   "source": [
    "goals.sort(reverse = True)\n",
    "goals"
   ]
  },
  {
   "cell_type": "code",
   "execution_count": 19,
   "id": "590d1e9c-7a49-4424-84c5-b753ce220a28",
   "metadata": {},
   "outputs": [],
   "source": [
    "spam = [\"Alice\",\"ants\",\"Billy\",\"boat\",\"Cassie\",\"card\"]\n",
    "random.shuffle(spam)"
   ]
  },
  {
   "cell_type": "code",
   "execution_count": 20,
   "id": "d156ef35-54c6-4db8-a256-21bafbd72738",
   "metadata": {},
   "outputs": [
    {
     "data": {
      "text/plain": [
       "['ants', 'Billy', 'Alice', 'Cassie', 'card', 'boat']"
      ]
     },
     "execution_count": 20,
     "metadata": {},
     "output_type": "execute_result"
    }
   ],
   "source": [
    "spam"
   ]
  },
  {
   "cell_type": "markdown",
   "id": "2f5e5a42-b9b7-4f86-b848-cfe29c02275e",
   "metadata": {},
   "source": [
    "The sort function sorts according to the ASCIIbetical order.\n",
    "- Where capitalized letters come before lower case letters"
   ]
  },
  {
   "cell_type": "code",
   "execution_count": 22,
   "id": "2e26f01d-1239-48cd-a821-9189625ed4bf",
   "metadata": {},
   "outputs": [
    {
     "data": {
      "text/plain": [
       "['Alice', 'Billy', 'Cassie', 'ants', 'boat', 'card']"
      ]
     },
     "execution_count": 22,
     "metadata": {},
     "output_type": "execute_result"
    }
   ],
   "source": [
    "spam.sort()\n",
    "spam"
   ]
  },
  {
   "cell_type": "code",
   "execution_count": 1,
   "id": "e9acc185-863c-4f92-91d3-e9d1955eb1e5",
   "metadata": {},
   "outputs": [
    {
     "data": {
      "text/plain": [
       "['c', 'E', 'f', 'V']"
      ]
     },
     "execution_count": 1,
     "metadata": {},
     "output_type": "execute_result"
    }
   ],
   "source": [
    "letter_spam = ['c',\"V\",'E',\"f\"]\n",
    "letter_spam.sort(key = str.lower)\n",
    "letter_spam"
   ]
  },
  {
   "cell_type": "markdown",
   "id": "29c950ef-7598-4a71-9646-233883abfe97",
   "metadata": {},
   "source": [
    "Magic 8 Ball with a list"
   ]
  },
  {
   "cell_type": "code",
   "execution_count": 7,
   "id": "bd89ae31-a373-46b4-afc6-9e7e4efa5699",
   "metadata": {},
   "outputs": [
    {
     "name": "stdout",
     "output_type": "stream",
     "text": [
      "Yes definitely\n"
     ]
    }
   ],
   "source": [
    "messages = [ \"It is certain\",\n",
    "           \"It is decidedly so\",\n",
    "           \"Yes definitely\",\n",
    "           \"Reply hazy try again\",\n",
    "           \"Concentrate and ask again\",\n",
    "           \"My reply is no\",\n",
    "           \"outlook not so good\",\n",
    "           \"Very doubtful\"]\n",
    "\n",
    "print(messages[random.randint(0, len(messages)-1)])"
   ]
  },
  {
   "cell_type": "code",
   "execution_count": 16,
   "id": "b84882bb-a086-4a88-a2de-d91f02cc89b8",
   "metadata": {},
   "outputs": [],
   "source": [
    "name = \"Karen\""
   ]
  },
  {
   "cell_type": "code",
   "execution_count": 9,
   "id": "7d81b74c-64c2-49e9-872f-99ff68cce1bf",
   "metadata": {},
   "outputs": [
    {
     "data": {
      "text/plain": [
       "'Z'"
      ]
     },
     "execution_count": 9,
     "metadata": {},
     "output_type": "execute_result"
    }
   ],
   "source": [
    "name[0]"
   ]
  },
  {
   "cell_type": "code",
   "execution_count": 10,
   "id": "74b66cbd-92e6-4d18-8848-fd7785ca23e9",
   "metadata": {},
   "outputs": [
    {
     "data": {
      "text/plain": [
       "'i'"
      ]
     },
     "execution_count": 10,
     "metadata": {},
     "output_type": "execute_result"
    }
   ],
   "source": [
    "name[-2]"
   ]
  },
  {
   "cell_type": "code",
   "execution_count": 11,
   "id": "d9cb8b60-18c1-4364-ba3c-9db1c3418bc8",
   "metadata": {},
   "outputs": [
    {
     "data": {
      "text/plain": [
       "'Zoph'"
      ]
     },
     "execution_count": 11,
     "metadata": {},
     "output_type": "execute_result"
    }
   ],
   "source": [
    "name[0:4]"
   ]
  },
  {
   "cell_type": "code",
   "execution_count": 12,
   "id": "7bd84fd8-a35f-4f6b-8854-639efa95dd6f",
   "metadata": {},
   "outputs": [
    {
     "data": {
      "text/plain": [
       "True"
      ]
     },
     "execution_count": 12,
     "metadata": {},
     "output_type": "execute_result"
    }
   ],
   "source": [
    "\"Zo\" in name"
   ]
  },
  {
   "cell_type": "code",
   "execution_count": 13,
   "id": "fe70345d-c9f8-47c4-a63c-96c83061287b",
   "metadata": {},
   "outputs": [
    {
     "data": {
      "text/plain": [
       "False"
      ]
     },
     "execution_count": 13,
     "metadata": {},
     "output_type": "execute_result"
    }
   ],
   "source": [
    "\"z\" in name"
   ]
  },
  {
   "cell_type": "code",
   "execution_count": 14,
   "id": "0b4cd911-9315-497c-95bd-7f4ad6bd5a39",
   "metadata": {},
   "outputs": [
    {
     "data": {
      "text/plain": [
       "False"
      ]
     },
     "execution_count": 14,
     "metadata": {},
     "output_type": "execute_result"
    }
   ],
   "source": [
    "\"p\" not in name"
   ]
  },
  {
   "cell_type": "code",
   "execution_count": 17,
   "id": "511a9df8-f6f6-4b51-87a8-5ac5926f7f1f",
   "metadata": {},
   "outputs": [
    {
     "name": "stdout",
     "output_type": "stream",
     "text": [
      "* * *K * * *\n",
      "* * *a * * *\n",
      "* * *r * * *\n",
      "* * *e * * *\n",
      "* * *n * * *\n"
     ]
    }
   ],
   "source": [
    "for i in name:\n",
    "    print(\"* * *\" + i + \" * * *\")"
   ]
  },
  {
   "cell_type": "code",
   "execution_count": 23,
   "id": "8774bc79-49d5-43f5-9b16-593169b77d23",
   "metadata": {},
   "outputs": [
    {
     "ename": "TypeError",
     "evalue": "'str' object does not support item assignment",
     "output_type": "error",
     "traceback": [
      "\u001b[1;31m---------------------------------------------------------------------------\u001b[0m",
      "\u001b[1;31mTypeError\u001b[0m                                 Traceback (most recent call last)",
      "Input \u001b[1;32mIn [23]\u001b[0m, in \u001b[0;36m<cell line: 2>\u001b[1;34m()\u001b[0m\n\u001b[0;32m      1\u001b[0m cat \u001b[38;5;241m=\u001b[39m \u001b[38;5;124m\"\u001b[39m\u001b[38;5;124mZophie a cat\u001b[39m\u001b[38;5;124m\"\u001b[39m\n\u001b[1;32m----> 2\u001b[0m cat[\u001b[38;5;241m7\u001b[39m] \u001b[38;5;241m=\u001b[39m \u001b[38;5;124m\"\u001b[39m\u001b[38;5;124mthe\u001b[39m\u001b[38;5;124m\"\u001b[39m\n",
      "\u001b[1;31mTypeError\u001b[0m: 'str' object does not support item assignment"
     ]
    }
   ],
   "source": [
    "cat = \"Zophie a cat\"\n",
    "cat[7] = \"the\""
   ]
  },
  {
   "cell_type": "code",
   "execution_count": 29,
   "id": "7f79bcc7-1d26-46b1-9054-88d2350e2736",
   "metadata": {},
   "outputs": [
    {
     "data": {
      "text/plain": [
       "'Zophie the cat'"
      ]
     },
     "execution_count": 29,
     "metadata": {},
     "output_type": "execute_result"
    }
   ],
   "source": [
    "newname = cat[:7] + \"the\" + cat[8:]\n",
    "newname"
   ]
  },
  {
   "cell_type": "code",
   "execution_count": null,
   "id": "a7aefaee-f9ef-4459-a7c8-aaf825409c98",
   "metadata": {},
   "outputs": [],
   "source": []
  }
 ],
 "metadata": {
  "kernelspec": {
   "display_name": "Python 3 (ipykernel)",
   "language": "python",
   "name": "python3"
  },
  "language_info": {
   "codemirror_mode": {
    "name": "ipython",
    "version": 3
   },
   "file_extension": ".py",
   "mimetype": "text/x-python",
   "name": "python",
   "nbconvert_exporter": "python",
   "pygments_lexer": "ipython3",
   "version": "3.9.12"
  }
 },
 "nbformat": 4,
 "nbformat_minor": 5
}
