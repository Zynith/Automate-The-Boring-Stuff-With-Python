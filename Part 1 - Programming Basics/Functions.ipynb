{
 "cells": [
  {
   "cell_type": "markdown",
   "id": "615bd5df-e364-4a63-b41c-e4cd796aa1f7",
   "metadata": {},
   "source": [
    "# Functions"
   ]
  },
  {
   "cell_type": "markdown",
   "id": "08db6721-7856-47e7-b129-b4015ff0731e",
   "metadata": {},
   "source": [
    "## Libraries"
   ]
  },
  {
   "cell_type": "code",
   "execution_count": 1,
   "id": "0c982f8e-2289-41c8-9db5-f1c8ea23aa75",
   "metadata": {},
   "outputs": [],
   "source": [
    "import random\n",
    "import time\n",
    "import os\n",
    "import time\n",
    "import sys"
   ]
  },
  {
   "cell_type": "code",
   "execution_count": 1,
   "id": "07c1272e-2c67-4030-8e54-2bc34dbecce0",
   "metadata": {},
   "outputs": [],
   "source": [
    "def hello():\n",
    "    print(\"Howdy!\")\n",
    "    print(\"Howdy!!\")\n",
    "    print(\"Hello there.\")"
   ]
  },
  {
   "cell_type": "code",
   "execution_count": 2,
   "id": "e745a093-4fe7-4dfa-b595-7279b39c4a46",
   "metadata": {},
   "outputs": [
    {
     "name": "stdout",
     "output_type": "stream",
     "text": [
      "Howdy!\n",
      "Howdy!!\n",
      "Hello there.\n"
     ]
    }
   ],
   "source": [
    "hello()"
   ]
  },
  {
   "cell_type": "code",
   "execution_count": 3,
   "id": "ea8bea32-90b7-4cc5-aeee-1e132de30616",
   "metadata": {},
   "outputs": [
    {
     "name": "stdout",
     "output_type": "stream",
     "text": [
      "Howdy!\n",
      "Howdy!!\n",
      "Hello there.\n",
      "Howdy!\n",
      "Howdy!!\n",
      "Hello there.\n",
      "Howdy!\n",
      "Howdy!!\n",
      "Hello there.\n"
     ]
    }
   ],
   "source": [
    "hello()\n",
    "hello()\n",
    "hello()"
   ]
  },
  {
   "cell_type": "code",
   "execution_count": 11,
   "id": "7fe10358-97ab-467b-9b65-48562da1d22b",
   "metadata": {},
   "outputs": [],
   "source": [
    "def hello(name):\n",
    "    print(\"Hello, \" + name)"
   ]
  },
  {
   "cell_type": "code",
   "execution_count": 8,
   "id": "289df21d-8f9b-47f3-afef-de869930c59c",
   "metadata": {},
   "outputs": [
    {
     "name": "stdout",
     "output_type": "stream",
     "text": [
      "Hello Frantz\n"
     ]
    }
   ],
   "source": [
    "hello(\"Frantz\")"
   ]
  },
  {
   "cell_type": "code",
   "execution_count": 10,
   "id": "6c6ef91d-ffb1-478c-a298-cbc71ebaf981",
   "metadata": {},
   "outputs": [
    {
     "name": "stdout",
     "output_type": "stream",
     "text": [
      "Hello Karen\n"
     ]
    }
   ],
   "source": [
    "hello(\"Karen\")"
   ]
  },
  {
   "cell_type": "code",
   "execution_count": 1,
   "id": "d428b56a-be54-4e8f-893a-0f8b3c14215f",
   "metadata": {},
   "outputs": [],
   "source": [
    "import random"
   ]
  },
  {
   "cell_type": "code",
   "execution_count": 9,
   "id": "683e7f0e-f592-4766-ab27-21df3926e9ab",
   "metadata": {},
   "outputs": [
    {
     "name": "stdout",
     "output_type": "stream",
     "text": [
      "Outlook not so good\n"
     ]
    }
   ],
   "source": [
    "def getAnswer(answerNumber):\n",
    "    if answerNumber == 1:\n",
    "        return \"It is certain\"\n",
    "    elif answerNumber == 2:\n",
    "        return \"It is decidedly so\"\n",
    "    elif answerNumber == 3:\n",
    "        return \"Yes\"\n",
    "    elif answerNumber == 4:\n",
    "        return \"Reply hazy try again\"\n",
    "    elif answerNumber == 5:\n",
    "        return \"Ask again later\"\n",
    "    elif answerNumber == 6:\n",
    "        return \"Concentrate and ask again\"\n",
    "    elif answerNumber == 7:\n",
    "        return \"My reply is no\"\n",
    "    elif answerNumber == 8:\n",
    "        return \"Outlook not so good\"\n",
    "    elif answerNumber == 9:\n",
    "        return \"Very doubtful\"\n",
    "    \n",
    "r = random.randint(1,9)\n",
    "fortune = getAnswer(r)\n",
    "print(fortune)"
   ]
  },
  {
   "cell_type": "code",
   "execution_count": 13,
   "id": "0d62bc16-8f4f-4798-abcf-f22c5423528f",
   "metadata": {},
   "outputs": [
    {
     "name": "stdout",
     "output_type": "stream",
     "text": [
      "Hello!\n"
     ]
    }
   ],
   "source": [
    "spam = print(\"Hello!\")"
   ]
  },
  {
   "cell_type": "code",
   "execution_count": 14,
   "id": "a6e42bac-e517-420d-8f55-d9bfabe0a923",
   "metadata": {},
   "outputs": [
    {
     "data": {
      "text/plain": [
       "True"
      ]
     },
     "execution_count": 14,
     "metadata": {},
     "output_type": "execute_result"
    }
   ],
   "source": [
    "None == spam"
   ]
  },
  {
   "cell_type": "code",
   "execution_count": 15,
   "id": "978d4720-be09-4115-b63a-1d784c0e897f",
   "metadata": {},
   "outputs": [
    {
     "ename": "TypeError",
     "evalue": "randint() takes 3 positional arguments but 4 were given",
     "output_type": "error",
     "traceback": [
      "\u001b[1;31m---------------------------------------------------------------------------\u001b[0m",
      "\u001b[1;31mTypeError\u001b[0m                                 Traceback (most recent call last)",
      "Input \u001b[1;32mIn [15]\u001b[0m, in \u001b[0;36m<cell line: 1>\u001b[1;34m()\u001b[0m\n\u001b[1;32m----> 1\u001b[0m hi \u001b[38;5;241m=\u001b[39m \u001b[43mrandom\u001b[49m\u001b[38;5;241;43m.\u001b[39;49m\u001b[43mrandint\u001b[49m\u001b[43m(\u001b[49m\u001b[38;5;241;43m1\u001b[39;49m\u001b[43m,\u001b[49m\u001b[38;5;241;43m10\u001b[39;49m\u001b[43m,\u001b[49m\u001b[38;5;241;43m-\u001b[39;49m\u001b[38;5;241;43m1\u001b[39;49m\u001b[43m)\u001b[49m\n",
      "\u001b[1;31mTypeError\u001b[0m: randint() takes 3 positional arguments but 4 were given"
     ]
    }
   ],
   "source": [
    "lev = asdf"
   ]
  },
  {
   "cell_type": "code",
   "execution_count": 19,
   "id": "691a2801-4a35-469d-9ea7-f597c634161b",
   "metadata": {},
   "outputs": [
    {
     "data": {
      "text/plain": [
       "[]"
      ]
     },
     "execution_count": 19,
     "metadata": {},
     "output_type": "execute_result"
    }
   ],
   "source": [
    "new_list = [x for x in range(1,11,-1)]\n",
    "new_list"
   ]
  },
  {
   "cell_type": "code",
   "execution_count": 24,
   "id": "8c64c462-647d-416e-b4c5-a54bc9b765b4",
   "metadata": {},
   "outputs": [
    {
     "name": "stdout",
     "output_type": "stream",
     "text": [
      "5\n",
      "4\n",
      "3\n",
      "2\n",
      "1\n",
      "0\n"
     ]
    }
   ],
   "source": [
    "for i in range(5,-1,-1):\n",
    "    print(i)"
   ]
  },
  {
   "cell_type": "code",
   "execution_count": 30,
   "id": "d85355ac-728c-425c-a122-6f1b51d90ef6",
   "metadata": {},
   "outputs": [
    {
     "name": "stdout",
     "output_type": "stream",
     "text": [
      "hello how are youhiI am great\n"
     ]
    }
   ],
   "source": [
    "print(\"hello how are you\", \"I am great\", sep=\"hi\")"
   ]
  },
  {
   "cell_type": "code",
   "execution_count": 5,
   "id": "8d1ba259-b7b5-4f9c-bac7-fd38c097b341",
   "metadata": {},
   "outputs": [
    {
     "name": "stdout",
     "output_type": "stream",
     "text": [
      "Hello I am awesome. This is greatThe end"
     ]
    }
   ],
   "source": [
    "print(\"Hello\", \"I am awesome.\", \"This is great\", sep = \" \", end = \"The end\")"
   ]
  },
  {
   "cell_type": "code",
   "execution_count": 9,
   "id": "8151b852-a63a-41c1-99b9-db1e6b66c78d",
   "metadata": {},
   "outputs": [
    {
     "name": "stdout",
     "output_type": "stream",
     "text": [
      "Hello World\n"
     ]
    }
   ],
   "source": [
    "print(\"Hello\", end = \" \")\n",
    "print(\"World\")"
   ]
  },
  {
   "cell_type": "code",
   "execution_count": 10,
   "id": "19d4f320-65fd-4b35-8bcd-d5b6c7ef3546",
   "metadata": {},
   "outputs": [
    {
     "name": "stdout",
     "output_type": "stream",
     "text": [
      "cats dogs mice\n"
     ]
    }
   ],
   "source": [
    "print(\"cats\",\"dogs\",\"mice\")"
   ]
  },
  {
   "cell_type": "code",
   "execution_count": 11,
   "id": "244ce497-0e32-47ae-bd1d-7463ca35979d",
   "metadata": {},
   "outputs": [
    {
     "name": "stdout",
     "output_type": "stream",
     "text": [
      "cats,dogs,mice\n"
     ]
    }
   ],
   "source": [
    "print(\"cats\",\"dogs\",\"mice\", sep = \",\")"
   ]
  },
  {
   "cell_type": "markdown",
   "id": "cba4c3a4-874c-42a4-b627-d17cf52a8ad6",
   "metadata": {},
   "source": [
    "#### How a function Call Stack works"
   ]
  },
  {
   "cell_type": "code",
   "execution_count": 18,
   "id": "b9997d61-3d12-472f-9364-5e2cef913ae1",
   "metadata": {},
   "outputs": [],
   "source": [
    "def a():\n",
    "    print(\"a() starts\")\n",
    "    b()\n",
    "    d()\n",
    "    print(\"a() returns\")\n",
    "\n",
    "def b():\n",
    "    print(\"b() starts\")\n",
    "    c()\n",
    "    print(\"b() returns\")\n",
    "    \n",
    "def c():\n",
    "    print(\"c() starts\")\n",
    "    print(\"c() returns\")\n",
    "    \n",
    "def d():\n",
    "    print(\"d() starts\")\n",
    "    print(\"d() returns\")"
   ]
  },
  {
   "cell_type": "code",
   "execution_count": 19,
   "id": "fa9fbbc3-32b2-4835-ac33-121eeca71b7b",
   "metadata": {},
   "outputs": [
    {
     "name": "stdout",
     "output_type": "stream",
     "text": [
      "a() starts\n",
      "b() starts\n",
      "c() starts\n",
      "c() returns\n",
      "b() returns\n",
      "d() starts\n",
      "d() returns\n",
      "a() returns\n"
     ]
    }
   ],
   "source": [
    "a()"
   ]
  },
  {
   "cell_type": "markdown",
   "id": "df1eaf1f-8f4a-4796-b26f-9b7d57d92d44",
   "metadata": {},
   "source": [
    "## Local & Global Scope"
   ]
  },
  {
   "cell_type": "markdown",
   "id": "7aac2b6e-aa19-4f0e-9abf-cace356d8a28",
   "metadata": {},
   "source": [
    "Scopes matter for several reasons:\n",
    "- Code in the global scope, outside of all functions, cannot use any local variables.\n",
    "- However, code in ta local scope can access global variables.\n",
    "- Code in a functions local scope cannot use variables in any other local scope.\n",
    "- You can use the same name for different variable sif they are in different scopes.\n",
    "    - Ex. A local variable named spam and a global variable also named spam."
   ]
  },
  {
   "cell_type": "markdown",
   "id": "ea030f1d-eff8-446d-b719-db8b49112fd7",
   "metadata": {},
   "source": [
    "#### Local Variables Cannot be used in the Global Scope"
   ]
  },
  {
   "cell_type": "code",
   "execution_count": 17,
   "id": "c9b9e86f-8e21-4b65-9f35-48d0ad987605",
   "metadata": {},
   "outputs": [
    {
     "ename": "NameError",
     "evalue": "name 'eggs' is not defined",
     "output_type": "error",
     "traceback": [
      "\u001b[1;31m---------------------------------------------------------------------------\u001b[0m",
      "\u001b[1;31mNameError\u001b[0m                                 Traceback (most recent call last)",
      "Input \u001b[1;32mIn [17]\u001b[0m, in \u001b[0;36m<cell line: 4>\u001b[1;34m()\u001b[0m\n\u001b[0;32m      2\u001b[0m     eggs \u001b[38;5;241m=\u001b[39m \u001b[38;5;241m31337\u001b[39m\n\u001b[0;32m      3\u001b[0m spam()\n\u001b[1;32m----> 4\u001b[0m \u001b[38;5;28mprint\u001b[39m(\u001b[43meggs\u001b[49m)\n",
      "\u001b[1;31mNameError\u001b[0m: name 'eggs' is not defined"
     ]
    }
   ],
   "source": [
    "def spam():\n",
    "    eggs = 31337\n",
    "spam()\n",
    "print(eggs)"
   ]
  },
  {
   "cell_type": "markdown",
   "id": "74cd6828-34af-48df-a947-10dd2de082f2",
   "metadata": {},
   "source": [
    "#### Local Scopes Cannot use Variables in Other Local Scopes"
   ]
  },
  {
   "cell_type": "code",
   "execution_count": 22,
   "id": "2da32ba8-278f-403b-90b5-9198935932ba",
   "metadata": {},
   "outputs": [
    {
     "name": "stdout",
     "output_type": "stream",
     "text": [
      "99\n"
     ]
    }
   ],
   "source": [
    "def spam():\n",
    "    eggs = 99\n",
    "    bacon()\n",
    "    print(eggs)\n",
    "    \n",
    "def bacon():\n",
    "    ham = 101\n",
    "    eggs = 0\n",
    "spam()"
   ]
  },
  {
   "cell_type": "markdown",
   "id": "3de95f13-6427-4b98-945e-6970fdd8d4d6",
   "metadata": {},
   "source": [
    "#### Global Variables Can Be Read from a Local Scope"
   ]
  },
  {
   "cell_type": "code",
   "execution_count": 20,
   "id": "d544a297-e109-4855-8364-94a524120479",
   "metadata": {},
   "outputs": [
    {
     "name": "stdout",
     "output_type": "stream",
     "text": [
      "42\n",
      "42\n"
     ]
    }
   ],
   "source": [
    "def spam():\n",
    "    print(eggs)\n",
    "eggs = 42\n",
    "spam()\n",
    "print(eggs)"
   ]
  },
  {
   "cell_type": "markdown",
   "id": "8168786b-3217-4a76-9b7f-8c2a9431dd33",
   "metadata": {},
   "source": [
    "#### Local and Global Variables with the Same Name"
   ]
  },
  {
   "cell_type": "code",
   "execution_count": 24,
   "id": "e5cc6333-d70d-4cec-9e30-bb9d85ce36d3",
   "metadata": {},
   "outputs": [
    {
     "name": "stdout",
     "output_type": "stream",
     "text": [
      "bacon local\n",
      "spam local\n",
      "bacon local\n",
      "global\n"
     ]
    }
   ],
   "source": [
    "def spam():\n",
    "    eggs = \"spam local\"\n",
    "    print(eggs) #prints \"spam local\"\n",
    "    \n",
    "def bacon():\n",
    "    eggs = \"bacon local\"\n",
    "    print(eggs) # prints \"bacon local\"\n",
    "    spam()\n",
    "    print(eggs) # prints \"bacon local\"\n",
    "    \n",
    "eggs = \"global\" \n",
    "bacon()\n",
    "print(eggs) # prints \"global\""
   ]
  },
  {
   "cell_type": "code",
   "execution_count": 27,
   "id": "772a0800-d974-473c-8bd8-27af98905787",
   "metadata": {},
   "outputs": [
    {
     "name": "stdout",
     "output_type": "stream",
     "text": [
      "spam\n"
     ]
    }
   ],
   "source": [
    "def spam():\n",
    "    global eggs\n",
    "    eggs = \"spam\"\n",
    "    \n",
    "eggs = \"global\"\n",
    "spam()\n",
    "print(eggs)"
   ]
  },
  {
   "cell_type": "markdown",
   "id": "5a98c96b-b54b-4e42-9dc1-1fd342263418",
   "metadata": {},
   "source": [
    "There are 4 rules to tell whether a variable is in a local scope or global scope:\n",
    "\n",
    "- If a variable is being used in the global scope (that is, outside of all functions), then it is always a global variable.\n",
    "- If there is a global statement for that variable in a function, it is a global variable.\n",
    "- Otherwise, if the variable is used in an assignment statement in the function, it is a local variable.\n",
    "- But if the variable is not used in an assigment statement, it is a global variable.\n",
    "\n"
   ]
  },
  {
   "cell_type": "code",
   "execution_count": 30,
   "id": "1ed98858-0d7e-4a48-8a14-d8f55ef46a9f",
   "metadata": {},
   "outputs": [
    {
     "name": "stdout",
     "output_type": "stream",
     "text": [
      "spam\n"
     ]
    }
   ],
   "source": [
    "def spam():\n",
    "    global eggs\n",
    "    eggs = \"spam\" # this is the global\n",
    "\n",
    "def bacon():\n",
    "    eggs = \"bacon\" # this is a local\n",
    "    \n",
    "def ham():\n",
    "    print(eggs) # this is the global\n",
    "    \n",
    "eggs = 42 # this is the global\n",
    "spam()\n",
    "print(eggs)"
   ]
  },
  {
   "cell_type": "markdown",
   "id": "ced305e3-a3bd-4ae8-b0c1-16f0f0b86eb8",
   "metadata": {},
   "source": [
    "## Exception Handling"
   ]
  },
  {
   "cell_type": "code",
   "execution_count": 31,
   "id": "83bb7f8b-8e0f-4611-82a4-19404f8d0dd9",
   "metadata": {},
   "outputs": [
    {
     "name": "stdout",
     "output_type": "stream",
     "text": [
      "21.0\n",
      "3.5\n"
     ]
    },
    {
     "ename": "ZeroDivisionError",
     "evalue": "division by zero",
     "output_type": "error",
     "traceback": [
      "\u001b[1;31m---------------------------------------------------------------------------\u001b[0m",
      "\u001b[1;31mZeroDivisionError\u001b[0m                         Traceback (most recent call last)",
      "Input \u001b[1;32mIn [31]\u001b[0m, in \u001b[0;36m<cell line: 5>\u001b[1;34m()\u001b[0m\n\u001b[0;32m      3\u001b[0m \u001b[38;5;28mprint\u001b[39m(spam(\u001b[38;5;241m2\u001b[39m))\n\u001b[0;32m      4\u001b[0m \u001b[38;5;28mprint\u001b[39m(spam(\u001b[38;5;241m12\u001b[39m))\n\u001b[1;32m----> 5\u001b[0m \u001b[38;5;28mprint\u001b[39m(\u001b[43mspam\u001b[49m\u001b[43m(\u001b[49m\u001b[38;5;241;43m0\u001b[39;49m\u001b[43m)\u001b[49m)\n\u001b[0;32m      6\u001b[0m \u001b[38;5;28mprint\u001b[39m(spam(\u001b[38;5;241m1\u001b[39m))\n",
      "Input \u001b[1;32mIn [31]\u001b[0m, in \u001b[0;36mspam\u001b[1;34m(divideBy)\u001b[0m\n\u001b[0;32m      1\u001b[0m \u001b[38;5;28;01mdef\u001b[39;00m \u001b[38;5;21mspam\u001b[39m(divideBy):\n\u001b[1;32m----> 2\u001b[0m     \u001b[38;5;28;01mreturn\u001b[39;00m \u001b[38;5;241;43m42\u001b[39;49m\u001b[38;5;241;43m/\u001b[39;49m\u001b[43mdivideBy\u001b[49m\n",
      "\u001b[1;31mZeroDivisionError\u001b[0m: division by zero"
     ]
    }
   ],
   "source": [
    "def spam(divideBy):\n",
    "    return 42/divideBy\n",
    "print(spam(2))\n",
    "print(spam(12))\n",
    "print(spam(0))\n",
    "print(spam(1))"
   ]
  },
  {
   "cell_type": "code",
   "execution_count": 32,
   "id": "1bbf39c6-4a64-40df-8735-d0bd2615abbd",
   "metadata": {},
   "outputs": [
    {
     "name": "stdout",
     "output_type": "stream",
     "text": [
      "21.0\n",
      "3.5\n",
      "Error: Invalid argument.\n",
      "None\n",
      "42.0\n"
     ]
    }
   ],
   "source": [
    "def spam(divideBy):\n",
    "    try:\n",
    "        return 42/divideBy\n",
    "    except ZeroDivisionError:\n",
    "        print(\"Error: Invalid argument.\")\n",
    "print(spam(2))\n",
    "print(spam(12))\n",
    "print(spam(0))\n",
    "print(spam(1))"
   ]
  },
  {
   "cell_type": "code",
   "execution_count": 1,
   "id": "1001f5b7-ebc3-45c4-ba87-2aa40acc63b8",
   "metadata": {},
   "outputs": [
    {
     "name": "stdout",
     "output_type": "stream",
     "text": [
      "21.0\n",
      "3.5\n",
      "Error: Invalid argument.\n"
     ]
    }
   ],
   "source": [
    "def spam(divideBy):\n",
    "    return 42/divideBy\n",
    "\n",
    "try:\n",
    "    print(spam(2))\n",
    "    print(spam(12))\n",
    "    print(spam(0))\n",
    "    print(spam(1))\n",
    "\n",
    "except ZeroDivisionError:\n",
    "    print(\"Error: Invalid argument.\")"
   ]
  },
  {
   "cell_type": "markdown",
   "id": "1ec8219b-2cd8-42ff-9a19-5356278e89eb",
   "metadata": {},
   "source": [
    "#### Short Program: Zigzag"
   ]
  },
  {
   "cell_type": "code",
   "execution_count": 5,
   "id": "165a69b7-46a9-4482-b1fd-ea87e9411de7",
   "metadata": {},
   "outputs": [
    {
     "name": "stdout",
     "output_type": "stream",
     "text": [
      "********\n",
      " ********\n",
      "  ********\n",
      "   ********\n",
      "    ********\n",
      "     ********\n",
      "      ********\n",
      "       ********\n",
      "        ********\n",
      "         ********\n",
      "          ********\n",
      "           ********\n",
      "            ********\n",
      "             ********\n",
      "              ********\n",
      "               ********\n",
      "                ********\n",
      "                 ********\n",
      "                  ********\n",
      "                   ********\n",
      "                    ********\n",
      "                   ********\n",
      "                  ********\n",
      "                 ********\n",
      "                ********\n",
      "               ********\n",
      "              ********\n",
      "             ********\n",
      "            ********\n",
      "           ********\n",
      "          ********\n",
      "         ********\n",
      "        ********\n",
      "       ********\n",
      "      ********\n",
      "     ********\n",
      "    ********\n",
      "   ********\n",
      "  ********\n",
      " ********\n",
      "********\n",
      " ********\n",
      "  ********\n",
      "   ********\n",
      "    ********\n",
      "     ********\n",
      "      ********\n",
      "       ********\n",
      "        ********\n",
      "         ********\n",
      "          ********\n",
      "           ********\n",
      "            ********\n",
      "             ********\n",
      "              ********\n",
      "               ********\n",
      "                ********\n",
      "                 ********\n",
      "                  ********\n",
      "                   ********\n",
      "                    ********\n",
      "                   ********\n",
      "                  ********\n",
      "                 ********\n",
      "                ********\n",
      "               ********\n",
      "              ********\n",
      "             ********\n",
      "            ********\n",
      "           ********\n",
      "          ********\n",
      "         ********\n",
      "        ********\n",
      "       ********\n",
      "      ********\n",
      "     ********\n",
      "    ********\n",
      "   ********\n",
      "  ********\n",
      " ********\n",
      "********\n",
      " ********\n",
      "  ********\n",
      "   ********\n",
      "    ********\n",
      "     ********\n",
      "      ********\n",
      "       ********\n",
      "        ********\n",
      "         ********\n",
      "          ********\n",
      "           ********\n",
      "            ********\n",
      "             ********\n",
      "              ********\n",
      "               ********\n",
      "                ********\n",
      "                 ********\n",
      "                  ********\n",
      "                   ********\n",
      "                    ********\n",
      "                   ********\n",
      "                  ********\n",
      "                 ********\n",
      "                ********\n",
      "               ********\n",
      "              ********\n",
      "             ********\n",
      "            ********\n",
      "           ********\n",
      "          ********\n",
      "         ********\n",
      "        ********\n",
      "       ********\n",
      "      ********\n",
      "     ********\n",
      "    ********\n",
      "   ********\n",
      "  ********\n",
      " ********\n",
      "********\n",
      " ********\n",
      "  ********\n",
      "   ********\n",
      "    ********\n",
      "     ********\n",
      "      ********\n",
      "       ********\n",
      "        ********\n",
      "         ********\n",
      "          ********\n",
      "           ********\n",
      "            ********\n",
      "             ********\n",
      "              ********\n",
      "               ********\n",
      "                ********\n",
      "                 ********\n",
      "                  ********\n",
      "                   ********\n",
      "                    ********\n",
      "                   ********\n",
      "                  ********\n",
      "                 ********\n",
      "                ********\n",
      "               ********\n",
      "              ********\n",
      "             ********\n",
      "            ********\n",
      "           ********\n",
      "          ********\n",
      "         ********\n",
      "        ********\n",
      "       ********\n",
      "      ********\n",
      "     ********\n",
      "    ********\n",
      "   ********\n",
      "  ********\n",
      " ********\n",
      "********\n",
      " ********\n",
      "  ********\n",
      "   ********\n",
      "    ********\n",
      "     ********\n",
      "      ********\n",
      "       ********\n",
      "        ********\n",
      "         ********\n",
      "          ********\n",
      "           ********\n",
      "            ********\n",
      "             ********\n",
      "              ********\n",
      "               ********\n",
      "                ********\n",
      "                 ********\n",
      "                  ********\n",
      "                   ********\n",
      "                    ********\n",
      "                   ********\n",
      "                  ********\n",
      "                 ********\n",
      "                ********\n",
      "               ********\n",
      "              ********\n",
      "             ********\n",
      "            ********\n",
      "           ********\n",
      "          ********\n",
      "         ********\n",
      "        ********\n",
      "       ********\n",
      "      ********\n",
      "     ********\n",
      "    ********\n",
      "   ********\n",
      "  ********\n",
      " ********\n",
      "********\n",
      " ********\n",
      "  ********\n",
      "   ********\n",
      "    ********\n",
      "     ********\n",
      "      ********\n",
      "       ********\n",
      "        ********\n",
      "         ********\n",
      "          ********\n",
      "           ********\n",
      "            ********\n",
      "             ********\n",
      "              ********\n",
      "               ********\n",
      "                ********\n",
      "                 ********\n",
      "                  ********\n",
      "                   ********\n",
      "                    ********\n",
      "                   ********\n",
      "                  ********\n",
      "                 ********\n",
      "                ********\n",
      "               ********\n",
      "              ********\n",
      "             ********\n",
      "            ********\n",
      "           ********\n",
      "          ********\n",
      "         ********\n",
      "        ********\n",
      "       ********\n",
      "      ********\n",
      "     ********\n",
      "    ********\n",
      "   ********\n",
      "  ********\n",
      " ********\n",
      "********\n",
      " ********\n",
      "  ********\n",
      "   ********\n",
      "    ********\n",
      "     ********\n",
      "      ********\n",
      "       ********\n",
      "        ********\n",
      "         ********\n",
      "          ********\n",
      "           ********\n",
      "            ********\n",
      "             ********\n",
      "              ********\n",
      "               ********\n",
      "                ********\n",
      "                 ********\n",
      "                  ********\n",
      "                   ********\n",
      "                    ********\n",
      "                   ********\n",
      "                  ********\n",
      "                 ********\n",
      "                ********\n",
      "               ********\n",
      "              ********\n",
      "             ********\n",
      "            ********\n",
      "           ********\n",
      "          ********\n",
      "         ********\n",
      "        ********\n",
      "       ********\n",
      "      ********\n",
      "     ********\n",
      "    ********\n",
      "   ********\n",
      "  ********\n",
      " ********\n",
      "********\n",
      " ********\n",
      "  ********\n",
      "   ********\n",
      "    ********\n",
      "     ********\n",
      "      ********\n",
      "       ********\n",
      "        ********\n",
      "         ********\n",
      "          ********\n",
      "           ********\n",
      "            ********\n",
      "             ********\n",
      "              ********\n",
      "               ********\n",
      "                ********\n",
      "                 ********\n",
      "                  ********\n",
      "                   ********\n",
      "                    ********\n",
      "                   ********\n",
      "                  ********\n",
      "                 ********\n",
      "                ********\n",
      "               ********\n",
      "              ********\n",
      "             ********\n",
      "            ********\n",
      "           ********\n",
      "          ********\n",
      "         ********\n",
      "        ********\n",
      "       ********\n",
      "      ********\n",
      "     ********\n",
      "    ********\n",
      "   ********\n",
      "  ********\n",
      " ********\n",
      "********\n",
      " ********\n",
      "  ********\n",
      "   ********\n",
      "    ********\n",
      "     ********\n",
      "      ********\n",
      "       ********\n",
      "        ********\n",
      "         ********\n",
      "          ********\n",
      "           ********\n",
      "            ********\n",
      "             ********\n",
      "              ********\n",
      "               ********\n",
      "                ********\n",
      "                 ********\n",
      "                  ********\n",
      "                   ********\n",
      "                    ********\n",
      "                   ********\n",
      "                  ********\n",
      "                 ********\n",
      "                ********\n",
      "               ********\n",
      "              ********\n",
      "             ********\n",
      "            ********\n",
      "           ********\n",
      "          ********\n",
      "         ********\n",
      "        ********\n",
      "       ********\n",
      "      ********\n",
      "     ********\n",
      "    ********\n",
      "   ********\n",
      "  ********\n",
      " ********\n",
      "********\n",
      " ********\n",
      "  ********\n",
      "   ********\n",
      "    ********\n",
      "     ********\n",
      "      ********\n",
      "       ********\n",
      "        ********\n",
      "         ********\n",
      "          ********\n",
      "           ********\n",
      "            ********\n",
      "             ********\n",
      "              ********\n",
      "               ********\n"
     ]
    },
    {
     "ename": "AssertionError",
     "evalue": "",
     "output_type": "error",
     "traceback": [
      "\u001b[1;31m---------------------------------------------------------------------------\u001b[0m",
      "\u001b[1;31mKeyboardInterrupt\u001b[0m                         Traceback (most recent call last)",
      "Input \u001b[1;32mIn [5]\u001b[0m, in \u001b[0;36m<cell line: 4>\u001b[1;34m()\u001b[0m\n\u001b[0;32m      7\u001b[0m \u001b[38;5;28mprint\u001b[39m(\u001b[38;5;124m\"\u001b[39m\u001b[38;5;124m********\u001b[39m\u001b[38;5;124m\"\u001b[39m)\n\u001b[1;32m----> 8\u001b[0m \u001b[43mtime\u001b[49m\u001b[38;5;241;43m.\u001b[39;49m\u001b[43msleep\u001b[49m\u001b[43m(\u001b[49m\u001b[38;5;241;43m0.10\u001b[39;49m\u001b[43m)\u001b[49m \u001b[38;5;66;03m#Pause for 1/10 of a second\u001b[39;00m\n\u001b[0;32m     10\u001b[0m \u001b[38;5;28;01mif\u001b[39;00m indentIncreasing:\n\u001b[0;32m     11\u001b[0m     \u001b[38;5;66;03m# Increase the number of spaces:\u001b[39;00m\n",
      "\u001b[1;31mKeyboardInterrupt\u001b[0m: ",
      "\nDuring handling of the above exception, another exception occurred:\n",
      "\u001b[1;31mSystemExit\u001b[0m                                Traceback (most recent call last)",
      "    \u001b[1;31m[... skipping hidden 1 frame]\u001b[0m\n",
      "Input \u001b[1;32mIn [5]\u001b[0m, in \u001b[0;36m<cell line: 4>\u001b[1;34m()\u001b[0m\n\u001b[0;32m     24\u001b[0m \u001b[38;5;28;01mexcept\u001b[39;00m \u001b[38;5;167;01mKeyboardInterrupt\u001b[39;00m:\n\u001b[1;32m---> 25\u001b[0m     \u001b[43msys\u001b[49m\u001b[38;5;241;43m.\u001b[39;49m\u001b[43mexit\u001b[49m\u001b[43m(\u001b[49m\u001b[43m)\u001b[49m\n",
      "\u001b[1;31mSystemExit\u001b[0m: ",
      "\nDuring handling of the above exception, another exception occurred:\n",
      "\u001b[1;31mAssertionError\u001b[0m                            Traceback (most recent call last)",
      "    \u001b[1;31m[... skipping hidden 1 frame]\u001b[0m\n",
      "File \u001b[1;32m~\\anaconda3\\lib\\site-packages\\IPython\\core\\interactiveshell.py:1972\u001b[0m, in \u001b[0;36mInteractiveShell.showtraceback\u001b[1;34m(self, exc_tuple, filename, tb_offset, exception_only, running_compiled_code)\u001b[0m\n\u001b[0;32m   1969\u001b[0m \u001b[38;5;28;01mif\u001b[39;00m exception_only:\n\u001b[0;32m   1970\u001b[0m     stb \u001b[38;5;241m=\u001b[39m [\u001b[38;5;124m'\u001b[39m\u001b[38;5;124mAn exception has occurred, use \u001b[39m\u001b[38;5;124m%\u001b[39m\u001b[38;5;124mtb to see \u001b[39m\u001b[38;5;124m'\u001b[39m\n\u001b[0;32m   1971\u001b[0m            \u001b[38;5;124m'\u001b[39m\u001b[38;5;124mthe full traceback.\u001b[39m\u001b[38;5;130;01m\\n\u001b[39;00m\u001b[38;5;124m'\u001b[39m]\n\u001b[1;32m-> 1972\u001b[0m     stb\u001b[38;5;241m.\u001b[39mextend(\u001b[38;5;28;43mself\u001b[39;49m\u001b[38;5;241;43m.\u001b[39;49m\u001b[43mInteractiveTB\u001b[49m\u001b[38;5;241;43m.\u001b[39;49m\u001b[43mget_exception_only\u001b[49m\u001b[43m(\u001b[49m\u001b[43metype\u001b[49m\u001b[43m,\u001b[49m\n\u001b[0;32m   1973\u001b[0m \u001b[43m                                                     \u001b[49m\u001b[43mvalue\u001b[49m\u001b[43m)\u001b[49m)\n\u001b[0;32m   1974\u001b[0m \u001b[38;5;28;01melse\u001b[39;00m:\n\u001b[0;32m   1975\u001b[0m     \u001b[38;5;28;01mtry\u001b[39;00m:\n\u001b[0;32m   1976\u001b[0m         \u001b[38;5;66;03m# Exception classes can customise their traceback - we\u001b[39;00m\n\u001b[0;32m   1977\u001b[0m         \u001b[38;5;66;03m# use this in IPython.parallel for exceptions occurring\u001b[39;00m\n\u001b[0;32m   1978\u001b[0m         \u001b[38;5;66;03m# in the engines. This should return a list of strings.\u001b[39;00m\n",
      "File \u001b[1;32m~\\anaconda3\\lib\\site-packages\\IPython\\core\\ultratb.py:585\u001b[0m, in \u001b[0;36mListTB.get_exception_only\u001b[1;34m(self, etype, value)\u001b[0m\n\u001b[0;32m    577\u001b[0m \u001b[38;5;28;01mdef\u001b[39;00m \u001b[38;5;21mget_exception_only\u001b[39m(\u001b[38;5;28mself\u001b[39m, etype, value):\n\u001b[0;32m    578\u001b[0m     \u001b[38;5;124;03m\"\"\"Only print the exception type and message, without a traceback.\u001b[39;00m\n\u001b[0;32m    579\u001b[0m \n\u001b[0;32m    580\u001b[0m \u001b[38;5;124;03m    Parameters\u001b[39;00m\n\u001b[1;32m   (...)\u001b[0m\n\u001b[0;32m    583\u001b[0m \u001b[38;5;124;03m    value : exception value\u001b[39;00m\n\u001b[0;32m    584\u001b[0m \u001b[38;5;124;03m    \"\"\"\u001b[39;00m\n\u001b[1;32m--> 585\u001b[0m     \u001b[38;5;28;01mreturn\u001b[39;00m \u001b[43mListTB\u001b[49m\u001b[38;5;241;43m.\u001b[39;49m\u001b[43mstructured_traceback\u001b[49m\u001b[43m(\u001b[49m\u001b[38;5;28;43mself\u001b[39;49m\u001b[43m,\u001b[49m\u001b[43m \u001b[49m\u001b[43metype\u001b[49m\u001b[43m,\u001b[49m\u001b[43m \u001b[49m\u001b[43mvalue\u001b[49m\u001b[43m)\u001b[49m\n",
      "File \u001b[1;32m~\\anaconda3\\lib\\site-packages\\IPython\\core\\ultratb.py:443\u001b[0m, in \u001b[0;36mListTB.structured_traceback\u001b[1;34m(self, etype, evalue, etb, tb_offset, context)\u001b[0m\n\u001b[0;32m    440\u001b[0m     chained_exc_ids\u001b[38;5;241m.\u001b[39madd(\u001b[38;5;28mid\u001b[39m(exception[\u001b[38;5;241m1\u001b[39m]))\n\u001b[0;32m    441\u001b[0m     chained_exceptions_tb_offset \u001b[38;5;241m=\u001b[39m \u001b[38;5;241m0\u001b[39m\n\u001b[0;32m    442\u001b[0m     out_list \u001b[38;5;241m=\u001b[39m (\n\u001b[1;32m--> 443\u001b[0m         \u001b[38;5;28;43mself\u001b[39;49m\u001b[38;5;241;43m.\u001b[39;49m\u001b[43mstructured_traceback\u001b[49m\u001b[43m(\u001b[49m\n\u001b[0;32m    444\u001b[0m \u001b[43m            \u001b[49m\u001b[43metype\u001b[49m\u001b[43m,\u001b[49m\u001b[43m \u001b[49m\u001b[43mevalue\u001b[49m\u001b[43m,\u001b[49m\u001b[43m \u001b[49m\u001b[43m(\u001b[49m\u001b[43metb\u001b[49m\u001b[43m,\u001b[49m\u001b[43m \u001b[49m\u001b[43mchained_exc_ids\u001b[49m\u001b[43m)\u001b[49m\u001b[43m,\u001b[49m\n\u001b[0;32m    445\u001b[0m \u001b[43m            \u001b[49m\u001b[43mchained_exceptions_tb_offset\u001b[49m\u001b[43m,\u001b[49m\u001b[43m \u001b[49m\u001b[43mcontext\u001b[49m\u001b[43m)\u001b[49m\n\u001b[0;32m    446\u001b[0m         \u001b[38;5;241m+\u001b[39m chained_exception_message\n\u001b[0;32m    447\u001b[0m         \u001b[38;5;241m+\u001b[39m out_list)\n\u001b[0;32m    449\u001b[0m \u001b[38;5;28;01mreturn\u001b[39;00m out_list\n",
      "File \u001b[1;32m~\\anaconda3\\lib\\site-packages\\IPython\\core\\ultratb.py:1118\u001b[0m, in \u001b[0;36mAutoFormattedTB.structured_traceback\u001b[1;34m(self, etype, value, tb, tb_offset, number_of_lines_of_context)\u001b[0m\n\u001b[0;32m   1116\u001b[0m \u001b[38;5;28;01melse\u001b[39;00m:\n\u001b[0;32m   1117\u001b[0m     \u001b[38;5;28mself\u001b[39m\u001b[38;5;241m.\u001b[39mtb \u001b[38;5;241m=\u001b[39m tb\n\u001b[1;32m-> 1118\u001b[0m \u001b[38;5;28;01mreturn\u001b[39;00m \u001b[43mFormattedTB\u001b[49m\u001b[38;5;241;43m.\u001b[39;49m\u001b[43mstructured_traceback\u001b[49m\u001b[43m(\u001b[49m\n\u001b[0;32m   1119\u001b[0m \u001b[43m    \u001b[49m\u001b[38;5;28;43mself\u001b[39;49m\u001b[43m,\u001b[49m\u001b[43m \u001b[49m\u001b[43metype\u001b[49m\u001b[43m,\u001b[49m\u001b[43m \u001b[49m\u001b[43mvalue\u001b[49m\u001b[43m,\u001b[49m\u001b[43m \u001b[49m\u001b[43mtb\u001b[49m\u001b[43m,\u001b[49m\u001b[43m \u001b[49m\u001b[43mtb_offset\u001b[49m\u001b[43m,\u001b[49m\u001b[43m \u001b[49m\u001b[43mnumber_of_lines_of_context\u001b[49m\u001b[43m)\u001b[49m\n",
      "File \u001b[1;32m~\\anaconda3\\lib\\site-packages\\IPython\\core\\ultratb.py:1012\u001b[0m, in \u001b[0;36mFormattedTB.structured_traceback\u001b[1;34m(self, etype, value, tb, tb_offset, number_of_lines_of_context)\u001b[0m\n\u001b[0;32m   1009\u001b[0m mode \u001b[38;5;241m=\u001b[39m \u001b[38;5;28mself\u001b[39m\u001b[38;5;241m.\u001b[39mmode\n\u001b[0;32m   1010\u001b[0m \u001b[38;5;28;01mif\u001b[39;00m mode \u001b[38;5;129;01min\u001b[39;00m \u001b[38;5;28mself\u001b[39m\u001b[38;5;241m.\u001b[39mverbose_modes:\n\u001b[0;32m   1011\u001b[0m     \u001b[38;5;66;03m# Verbose modes need a full traceback\u001b[39;00m\n\u001b[1;32m-> 1012\u001b[0m     \u001b[38;5;28;01mreturn\u001b[39;00m \u001b[43mVerboseTB\u001b[49m\u001b[38;5;241;43m.\u001b[39;49m\u001b[43mstructured_traceback\u001b[49m\u001b[43m(\u001b[49m\n\u001b[0;32m   1013\u001b[0m \u001b[43m        \u001b[49m\u001b[38;5;28;43mself\u001b[39;49m\u001b[43m,\u001b[49m\u001b[43m \u001b[49m\u001b[43metype\u001b[49m\u001b[43m,\u001b[49m\u001b[43m \u001b[49m\u001b[43mvalue\u001b[49m\u001b[43m,\u001b[49m\u001b[43m \u001b[49m\u001b[43mtb\u001b[49m\u001b[43m,\u001b[49m\u001b[43m \u001b[49m\u001b[43mtb_offset\u001b[49m\u001b[43m,\u001b[49m\u001b[43m \u001b[49m\u001b[43mnumber_of_lines_of_context\u001b[49m\n\u001b[0;32m   1014\u001b[0m \u001b[43m    \u001b[49m\u001b[43m)\u001b[49m\n\u001b[0;32m   1015\u001b[0m \u001b[38;5;28;01melif\u001b[39;00m mode \u001b[38;5;241m==\u001b[39m \u001b[38;5;124m'\u001b[39m\u001b[38;5;124mMinimal\u001b[39m\u001b[38;5;124m'\u001b[39m:\n\u001b[0;32m   1016\u001b[0m     \u001b[38;5;28;01mreturn\u001b[39;00m ListTB\u001b[38;5;241m.\u001b[39mget_exception_only(\u001b[38;5;28mself\u001b[39m, etype, value)\n",
      "File \u001b[1;32m~\\anaconda3\\lib\\site-packages\\IPython\\core\\ultratb.py:865\u001b[0m, in \u001b[0;36mVerboseTB.structured_traceback\u001b[1;34m(self, etype, evalue, etb, tb_offset, number_of_lines_of_context)\u001b[0m\n\u001b[0;32m    856\u001b[0m \u001b[38;5;28;01mdef\u001b[39;00m \u001b[38;5;21mstructured_traceback\u001b[39m(\n\u001b[0;32m    857\u001b[0m     \u001b[38;5;28mself\u001b[39m,\n\u001b[0;32m    858\u001b[0m     etype: \u001b[38;5;28mtype\u001b[39m,\n\u001b[1;32m   (...)\u001b[0m\n\u001b[0;32m    862\u001b[0m     number_of_lines_of_context: \u001b[38;5;28mint\u001b[39m \u001b[38;5;241m=\u001b[39m \u001b[38;5;241m5\u001b[39m,\n\u001b[0;32m    863\u001b[0m ):\n\u001b[0;32m    864\u001b[0m     \u001b[38;5;124;03m\"\"\"Return a nice text document describing the traceback.\"\"\"\u001b[39;00m\n\u001b[1;32m--> 865\u001b[0m     formatted_exception \u001b[38;5;241m=\u001b[39m \u001b[38;5;28;43mself\u001b[39;49m\u001b[38;5;241;43m.\u001b[39;49m\u001b[43mformat_exception_as_a_whole\u001b[49m\u001b[43m(\u001b[49m\u001b[43metype\u001b[49m\u001b[43m,\u001b[49m\u001b[43m \u001b[49m\u001b[43mevalue\u001b[49m\u001b[43m,\u001b[49m\u001b[43m \u001b[49m\u001b[43metb\u001b[49m\u001b[43m,\u001b[49m\u001b[43m \u001b[49m\u001b[43mnumber_of_lines_of_context\u001b[49m\u001b[43m,\u001b[49m\n\u001b[0;32m    866\u001b[0m \u001b[43m                                                           \u001b[49m\u001b[43mtb_offset\u001b[49m\u001b[43m)\u001b[49m\n\u001b[0;32m    868\u001b[0m     colors \u001b[38;5;241m=\u001b[39m \u001b[38;5;28mself\u001b[39m\u001b[38;5;241m.\u001b[39mColors  \u001b[38;5;66;03m# just a shorthand + quicker name lookup\u001b[39;00m\n\u001b[0;32m    869\u001b[0m     colorsnormal \u001b[38;5;241m=\u001b[39m colors\u001b[38;5;241m.\u001b[39mNormal  \u001b[38;5;66;03m# used a lot\u001b[39;00m\n",
      "File \u001b[1;32m~\\anaconda3\\lib\\site-packages\\IPython\\core\\ultratb.py:799\u001b[0m, in \u001b[0;36mVerboseTB.format_exception_as_a_whole\u001b[1;34m(self, etype, evalue, etb, number_of_lines_of_context, tb_offset)\u001b[0m\n\u001b[0;32m    796\u001b[0m \u001b[38;5;28;01massert\u001b[39;00m \u001b[38;5;28misinstance\u001b[39m(tb_offset, \u001b[38;5;28mint\u001b[39m)\n\u001b[0;32m    797\u001b[0m head \u001b[38;5;241m=\u001b[39m \u001b[38;5;28mself\u001b[39m\u001b[38;5;241m.\u001b[39mprepare_header(etype, \u001b[38;5;28mself\u001b[39m\u001b[38;5;241m.\u001b[39mlong_header)\n\u001b[0;32m    798\u001b[0m records \u001b[38;5;241m=\u001b[39m (\n\u001b[1;32m--> 799\u001b[0m     \u001b[38;5;28;43mself\u001b[39;49m\u001b[38;5;241;43m.\u001b[39;49m\u001b[43mget_records\u001b[49m\u001b[43m(\u001b[49m\u001b[43metb\u001b[49m\u001b[43m,\u001b[49m\u001b[43m \u001b[49m\u001b[43mnumber_of_lines_of_context\u001b[49m\u001b[43m,\u001b[49m\u001b[43m \u001b[49m\u001b[43mtb_offset\u001b[49m\u001b[43m)\u001b[49m \u001b[38;5;28;01mif\u001b[39;00m etb \u001b[38;5;28;01melse\u001b[39;00m []\n\u001b[0;32m    800\u001b[0m )\n\u001b[0;32m    802\u001b[0m frames \u001b[38;5;241m=\u001b[39m []\n\u001b[0;32m    803\u001b[0m skipped \u001b[38;5;241m=\u001b[39m \u001b[38;5;241m0\u001b[39m\n",
      "File \u001b[1;32m~\\anaconda3\\lib\\site-packages\\IPython\\core\\ultratb.py:854\u001b[0m, in \u001b[0;36mVerboseTB.get_records\u001b[1;34m(self, etb, number_of_lines_of_context, tb_offset)\u001b[0m\n\u001b[0;32m    848\u001b[0m     formatter \u001b[38;5;241m=\u001b[39m \u001b[38;5;28;01mNone\u001b[39;00m\n\u001b[0;32m    849\u001b[0m options \u001b[38;5;241m=\u001b[39m stack_data\u001b[38;5;241m.\u001b[39mOptions(\n\u001b[0;32m    850\u001b[0m     before\u001b[38;5;241m=\u001b[39mbefore,\n\u001b[0;32m    851\u001b[0m     after\u001b[38;5;241m=\u001b[39mafter,\n\u001b[0;32m    852\u001b[0m     pygments_formatter\u001b[38;5;241m=\u001b[39mformatter,\n\u001b[0;32m    853\u001b[0m )\n\u001b[1;32m--> 854\u001b[0m \u001b[38;5;28;01mreturn\u001b[39;00m \u001b[38;5;28;43mlist\u001b[39;49m\u001b[43m(\u001b[49m\u001b[43mstack_data\u001b[49m\u001b[38;5;241;43m.\u001b[39;49m\u001b[43mFrameInfo\u001b[49m\u001b[38;5;241;43m.\u001b[39;49m\u001b[43mstack_data\u001b[49m\u001b[43m(\u001b[49m\u001b[43metb\u001b[49m\u001b[43m,\u001b[49m\u001b[43m \u001b[49m\u001b[43moptions\u001b[49m\u001b[38;5;241;43m=\u001b[39;49m\u001b[43moptions\u001b[49m\u001b[43m)\u001b[49m\u001b[43m)\u001b[49m[tb_offset:]\n",
      "File \u001b[1;32m~\\anaconda3\\lib\\site-packages\\stack_data\\core.py:546\u001b[0m, in \u001b[0;36mFrameInfo.stack_data\u001b[1;34m(cls, frame_or_tb, options, collapse_repeated_frames)\u001b[0m\n\u001b[0;32m    530\u001b[0m \u001b[38;5;129m@classmethod\u001b[39m\n\u001b[0;32m    531\u001b[0m \u001b[38;5;28;01mdef\u001b[39;00m \u001b[38;5;21mstack_data\u001b[39m(\n\u001b[0;32m    532\u001b[0m         \u001b[38;5;28mcls\u001b[39m,\n\u001b[1;32m   (...)\u001b[0m\n\u001b[0;32m    536\u001b[0m         collapse_repeated_frames: \u001b[38;5;28mbool\u001b[39m \u001b[38;5;241m=\u001b[39m \u001b[38;5;28;01mTrue\u001b[39;00m\n\u001b[0;32m    537\u001b[0m ) \u001b[38;5;241m-\u001b[39m\u001b[38;5;241m>\u001b[39m Iterator[Union[\u001b[38;5;124m'\u001b[39m\u001b[38;5;124mFrameInfo\u001b[39m\u001b[38;5;124m'\u001b[39m, RepeatedFrames]]:\n\u001b[0;32m    538\u001b[0m     \u001b[38;5;124;03m\"\"\"\u001b[39;00m\n\u001b[0;32m    539\u001b[0m \u001b[38;5;124;03m    An iterator of FrameInfo and RepeatedFrames objects representing\u001b[39;00m\n\u001b[0;32m    540\u001b[0m \u001b[38;5;124;03m    a full traceback or stack. Similar consecutive frames are collapsed into RepeatedFrames\u001b[39;00m\n\u001b[1;32m   (...)\u001b[0m\n\u001b[0;32m    544\u001b[0m \u001b[38;5;124;03m    and optionally an Options object to configure.\u001b[39;00m\n\u001b[0;32m    545\u001b[0m \u001b[38;5;124;03m    \"\"\"\u001b[39;00m\n\u001b[1;32m--> 546\u001b[0m     stack \u001b[38;5;241m=\u001b[39m \u001b[38;5;28;43mlist\u001b[39;49m\u001b[43m(\u001b[49m\u001b[43miter_stack\u001b[49m\u001b[43m(\u001b[49m\u001b[43mframe_or_tb\u001b[49m\u001b[43m)\u001b[49m\u001b[43m)\u001b[49m\n\u001b[0;32m    548\u001b[0m     \u001b[38;5;66;03m# Reverse the stack from a frame so that it's in the same order\u001b[39;00m\n\u001b[0;32m    549\u001b[0m     \u001b[38;5;66;03m# as the order from a traceback, which is the order of a printed\u001b[39;00m\n\u001b[0;32m    550\u001b[0m     \u001b[38;5;66;03m# traceback when read top to bottom (most recent call last)\u001b[39;00m\n\u001b[0;32m    551\u001b[0m     \u001b[38;5;28;01mif\u001b[39;00m is_frame(frame_or_tb):\n",
      "File \u001b[1;32m~\\anaconda3\\lib\\site-packages\\stack_data\\utils.py:98\u001b[0m, in \u001b[0;36miter_stack\u001b[1;34m(frame_or_tb)\u001b[0m\n\u001b[0;32m     96\u001b[0m \u001b[38;5;28;01mwhile\u001b[39;00m frame_or_tb:\n\u001b[0;32m     97\u001b[0m     \u001b[38;5;28;01myield\u001b[39;00m frame_or_tb\n\u001b[1;32m---> 98\u001b[0m     \u001b[38;5;28;01mif\u001b[39;00m \u001b[43mis_frame\u001b[49m\u001b[43m(\u001b[49m\u001b[43mframe_or_tb\u001b[49m\u001b[43m)\u001b[49m:\n\u001b[0;32m     99\u001b[0m         frame_or_tb \u001b[38;5;241m=\u001b[39m frame_or_tb\u001b[38;5;241m.\u001b[39mf_back\n\u001b[0;32m    100\u001b[0m     \u001b[38;5;28;01melse\u001b[39;00m:\n",
      "File \u001b[1;32m~\\anaconda3\\lib\\site-packages\\stack_data\\utils.py:91\u001b[0m, in \u001b[0;36mis_frame\u001b[1;34m(frame_or_tb)\u001b[0m\n\u001b[0;32m     90\u001b[0m \u001b[38;5;28;01mdef\u001b[39;00m \u001b[38;5;21mis_frame\u001b[39m(frame_or_tb: Union[FrameType, TracebackType]) \u001b[38;5;241m-\u001b[39m\u001b[38;5;241m>\u001b[39m \u001b[38;5;28mbool\u001b[39m:\n\u001b[1;32m---> 91\u001b[0m     \u001b[43massert_\u001b[49m\u001b[43m(\u001b[49m\u001b[38;5;28;43misinstance\u001b[39;49m\u001b[43m(\u001b[49m\u001b[43mframe_or_tb\u001b[49m\u001b[43m,\u001b[49m\u001b[43m \u001b[49m\u001b[43m(\u001b[49m\u001b[43mtypes\u001b[49m\u001b[38;5;241;43m.\u001b[39;49m\u001b[43mFrameType\u001b[49m\u001b[43m,\u001b[49m\u001b[43m \u001b[49m\u001b[43mtypes\u001b[49m\u001b[38;5;241;43m.\u001b[39;49m\u001b[43mTracebackType\u001b[49m\u001b[43m)\u001b[49m\u001b[43m)\u001b[49m\u001b[43m)\u001b[49m\n\u001b[0;32m     92\u001b[0m     \u001b[38;5;28;01mreturn\u001b[39;00m \u001b[38;5;28misinstance\u001b[39m(frame_or_tb, (types\u001b[38;5;241m.\u001b[39mFrameType,))\n",
      "File \u001b[1;32m~\\anaconda3\\lib\\site-packages\\stack_data\\utils.py:172\u001b[0m, in \u001b[0;36massert_\u001b[1;34m(condition, error)\u001b[0m\n\u001b[0;32m    170\u001b[0m \u001b[38;5;28;01mif\u001b[39;00m \u001b[38;5;28misinstance\u001b[39m(error, \u001b[38;5;28mstr\u001b[39m):\n\u001b[0;32m    171\u001b[0m     error \u001b[38;5;241m=\u001b[39m \u001b[38;5;167;01mAssertionError\u001b[39;00m(error)\n\u001b[1;32m--> 172\u001b[0m \u001b[38;5;28;01mraise\u001b[39;00m error\n",
      "\u001b[1;31mAssertionError\u001b[0m: "
     ]
    }
   ],
   "source": [
    "indent = 0 # how many spaces to indent\n",
    "indentIncreasing = True # Whether the indentation is increasing or not.\n",
    "\n",
    "try:\n",
    "    while True:\n",
    "        print(\" \" * indent, end = \"\")\n",
    "        print(\"********\")\n",
    "        time.sleep(0.10) #Pause for 1/10 of a second\n",
    "        \n",
    "        if indentIncreasing:\n",
    "            # Increase the number of spaces:\n",
    "            indent = indent +1\n",
    "            if indent == 20:\n",
    "                # Change direction:\n",
    "                indentIncreasing = False\n",
    "        \n",
    "        else:\n",
    "            # Decrease the number of spaces:\n",
    "            indent = indent -1\n",
    "            if indent == 0:\n",
    "                # change direction:\n",
    "                indentIncreasing = True\n",
    "\n",
    "except KeyboardInterrupt:\n",
    "    sys.exit()"
   ]
  },
  {
   "cell_type": "markdown",
   "id": "e9bba3fe-48bf-4791-8ed3-9acfc43323f4",
   "metadata": {},
   "source": [
    "Practice Questions\n",
    "\n",
    "1. Why are functions advantageous to have in your programs?\n",
    "- Functions reduce the need for duplicate code. This makes programs shorter, easier to read and easier to update.\n",
    "2. When does the code in a function execute: When the fuction is defined or when the function is called.\n",
    "- The code in a function executes when the function is called.\n",
    "3. What statement creates a function?\n",
    "- The def statement defines a function.\n",
    "4. What is the difference between a function and a function call?\n",
    "- A function consists of the def statement and the code in its def clause. A function call is what moves the program execution into the function, and the function call evaluates to the functions return value.\n",
    "5. How many global scopes are therein a Python Program? How many local scopes?\n",
    "- There is one global scope and a local scope is created whenever a function is called.\n",
    "6. What happens to variables in a local scope when the function call returns?\n",
    "- When a function return, the local scope is destroyed, and all the variables in it are forgotten.\n",
    "7. What is a return value? Can a return value be part of an expression?\n",
    "- A return value is the value that a function call evaluates to. Like any value, a return value can be used as part of an expression. \n",
    "8. If a function does not have a return statement, what is the return value of a call to that function?\n",
    "- If there is no return statement for a function , its return value is None.\n",
    "9. How can you force a variable in a function to refer to the global variable?\n",
    "- A global statement will force a variabl ein a function to refer to the global variable.\n",
    "10. What is the data type None?\n",
    "- The data type of None is the nonetype.\n",
    "11. What does the import areallyourptsnamederic statement do?\n",
    "- That import statement imports a module called areallyourptsnamederic.\n",
    "12. If you had a function named bacon() in a module named spam, how would you call it after importing spam?\n",
    "- spam.bacon()\n",
    "13. How can you prevent a program from crashing when it gets an error?\n",
    "- Place the line of code that might cause an error in a try clause.\n",
    "14. What goes in the try clause? What goes in the except clause?\n",
    "- The code that could potentially cause an error goes into the try clause. The code that executes if an error happens goes in the except clause.\n"
   ]
  },
  {
   "cell_type": "markdown",
   "id": "6678143d-ba70-4075-ba98-d563ddb079d8",
   "metadata": {},
   "source": [
    "Practice Project"
   ]
  },
  {
   "cell_type": "code",
   "execution_count": 8,
   "id": "cbb603a8-8388-4b50-a617-960967dfa173",
   "metadata": {},
   "outputs": [],
   "source": [
    "def collatz(number):\n",
    "    if number % 2 == 0:\n",
    "        print(number//2)\n",
    "        return number//2\n",
    "    elif number % 2 == 1:\n",
    "        print(3*number +1)\n",
    "        return 3*number +1\n",
    "        "
   ]
  },
  {
   "cell_type": "code",
   "execution_count": 17,
   "id": "f0d1d13f-7dd9-4028-80b9-af2c5b17a5e0",
   "metadata": {},
   "outputs": [],
   "source": [
    "def numbercall():\n",
    "    try:\n",
    "        num = int(input(\"Enter a number: \"))\n",
    "        collatz(num)\n",
    "        \n",
    "    except ValueError:\n",
    "        print(\"That's not a number. Idiot!\")\n",
    "        num = int(input(\"Enter a number again: \"))\n",
    "        collatz(num)"
   ]
  },
  {
   "cell_type": "code",
   "execution_count": 19,
   "id": "8081c913-0f21-42e2-9019-3dc2ed54be69",
   "metadata": {},
   "outputs": [
    {
     "name": "stdin",
     "output_type": "stream",
     "text": [
      "Enter a number:  7\n"
     ]
    },
    {
     "name": "stdout",
     "output_type": "stream",
     "text": [
      "22\n"
     ]
    }
   ],
   "source": [
    "numbercall()"
   ]
  }
 ],
 "metadata": {
  "kernelspec": {
   "display_name": "Python 3 (ipykernel)",
   "language": "python",
   "name": "python3"
  },
  "language_info": {
   "codemirror_mode": {
    "name": "ipython",
    "version": 3
   },
   "file_extension": ".py",
   "mimetype": "text/x-python",
   "name": "python",
   "nbconvert_exporter": "python",
   "pygments_lexer": "ipython3",
   "version": "3.9.12"
  }
 },
 "nbformat": 4,
 "nbformat_minor": 5
}
